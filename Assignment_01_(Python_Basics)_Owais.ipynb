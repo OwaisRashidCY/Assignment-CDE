{
  "cells": [
    {
      "cell_type": "markdown",
      "metadata": {
        "id": "shgBjAEKkZy-"
      },
      "source": [
        "# Part -1 Python Basics (Variables)"
      ]
    },
    {
      "cell_type": "markdown",
      "metadata": {
        "id": "_q6aZ6tYkZzB"
      },
      "source": [
        "1. Print Your Name with your Father name and Date of birth using suitable escape sequence charactor"
      ]
    },
    {
      "cell_type": "code",
      "execution_count": 39,
      "metadata": {
        "id": "yzf24vnDkZzC",
        "colab": {
          "base_uri": "https://localhost:8080/"
        },
        "outputId": "34604132-da6e-4bd0-9b37-7f3c2958b0b1"
      },
      "outputs": [
        {
          "output_type": "stream",
          "name": "stdout",
          "text": [
            " Name:\t OWAIS RASHID \n",
            " Father Name:\t RASHID MINHAS \n",
            " Date of birth: 15/05/2005 \n"
          ]
        }
      ],
      "source": [
        "print(\" Name:\\t OWAIS RASHID \\n Father Name:\\t RASHID MINHAS \\n Date of birth: 15/05/2005 \")"
      ]
    },
    {
      "cell_type": "markdown",
      "metadata": {
        "id": "hlbQQHUVkZzE"
      },
      "source": [
        "2. Write your small bio using variables and print it using print function"
      ]
    },
    {
      "cell_type": "code",
      "execution_count": 40,
      "metadata": {
        "id": "FQQFjJf4kZzE",
        "colab": {
          "base_uri": "https://localhost:8080/"
        },
        "outputId": "2007a8d3-3b8a-4a77-c03d-99edbdb163c0"
      },
      "outputs": [
        {
          "output_type": "stream",
          "name": "stdout",
          "text": [
            "I AM IN LEARNING STAGE.\n"
          ]
        }
      ],
      "source": [
        "bio = \"I AM IN LEARNING STAGE.\"\n",
        "print(bio)"
      ]
    },
    {
      "cell_type": "markdown",
      "metadata": {
        "id": "EFhdBNVBkZzF"
      },
      "source": [
        "3. Write a program in which use all the operators we can use in Python"
      ]
    },
    {
      "cell_type": "code",
      "execution_count": 41,
      "metadata": {
        "id": "_RZaWW6nkZzF",
        "colab": {
          "base_uri": "https://localhost:8080/"
        },
        "outputId": "119959e1-decb-4547-9b07-fabd8abb0dce"
      },
      "outputs": [
        {
          "output_type": "stream",
          "name": "stdout",
          "text": [
            "Arithmetic Operators:\n",
            "Addition: 13\n",
            "Subtraction: 3\n",
            "Multiplication: 40\n",
            "Division: 1.6\n",
            "Floor Division: 1\n",
            "Modulus: 3\n",
            "Exponentiation: 32768\n",
            "\n",
            "Comparison Operators:\n",
            "Equal: False\n",
            "Not Equal: True\n",
            "Greater Than: True\n",
            "Less Than: False\n",
            "Greater or Equal: True\n",
            "Less or Equal: False\n"
          ]
        }
      ],
      "source": [
        "# 1. Arithmetic Operators\n",
        "a = 8\n",
        "b = 5\n",
        "print(\"Arithmetic Operators:\")\n",
        "print(\"Addition:\", a + b)\n",
        "print(\"Subtraction:\", a - b)\n",
        "print(\"Multiplication:\", a * b)\n",
        "print(\"Division:\", a / b)\n",
        "print(\"Floor Division:\", a // b)\n",
        "print(\"Modulus:\", a % b)\n",
        "print(\"Exponentiation:\", a ** b)\n",
        "\n",
        "# 2. Comparison Operators\n",
        "print(\"\\nComparison Operators:\")\n",
        "print(\"Equal:\", a == b)\n",
        "print(\"Not Equal:\", a != b)\n",
        "print(\"Greater Than:\", a > b)\n",
        "print(\"Less Than:\", a < b)\n",
        "print(\"Greater or Equal:\", a >= b)\n",
        "print(\"Less or Equal:\", a <= b)\n",
        "\n"
      ]
    },
    {
      "cell_type": "markdown",
      "metadata": {
        "id": "ycrfKWWLkZzG"
      },
      "source": [
        "4. Completes the following steps of small task:\n",
        "    - Mention Marks of English , Islamiat and Maths out of 100 in 3 different variables\n",
        "    - Mention Variable of Total Marks and assign 300 to it\n",
        "    - Calculate Percentage"
      ]
    },
    {
      "cell_type": "code",
      "execution_count": 42,
      "metadata": {
        "id": "5lB8EQiakZzH",
        "colab": {
          "base_uri": "https://localhost:8080/"
        },
        "outputId": "324183a6-f9a5-48a9-b291-32405e1ea336"
      },
      "outputs": [
        {
          "output_type": "stream",
          "name": "stdout",
          "text": [
            "OBTAIN-MARKS = 259\n",
            "PERCENTAGE = 86.33333333333333\n"
          ]
        }
      ],
      "source": [
        "Eng = 89\n",
        "Isl = 90\n",
        "Maths = 80\n",
        "total= 300\n",
        "obtaineMarks = Eng+Isl+Maths\n",
        "ForPercetage=obtaineMarks / total * 100\n",
        "\n",
        "print (\"OBTAIN-MARKS =\", obtaineMarks)\n",
        "print(\"PERCENTAGE =\" ,Percentage )"
      ]
    },
    {
      "cell_type": "markdown",
      "metadata": {
        "id": "UvCzWTFUkZzH"
      },
      "source": [
        "# Part -2 Python Basics (Conditional Statements)"
      ]
    },
    {
      "cell_type": "markdown",
      "metadata": {
        "id": "Nmv2BdxakZzH"
      },
      "source": [
        "1) A company decided to give bonus of 5% to employee if his/her year of service is more than 5 years.\n",
        "Ask user for their salary and year of service and print the net bonus amount."
      ]
    },
    {
      "cell_type": "code",
      "execution_count": 16,
      "metadata": {
        "colab": {
          "base_uri": "https://localhost:8080/"
        },
        "id": "G6dAdVD3kZzI",
        "outputId": "851ce7e1-50e2-4ec5-d22a-212b23bee1f5"
      },
      "outputs": [
        {
          "output_type": "stream",
          "name": "stdout",
          "text": [
            "Add yor per month salary5000\n",
            "Congratulations! You are eligible for a bonus of: 250.0\n"
          ]
        }
      ],
      "source": [
        "employee_workYear = float(input(\"Add your Wrok years In Our Company \"))\n",
        "employee_Salary = int(input(\"Add yor per month salary\"))\n",
        "\n",
        "if employee_workYear >= 5:\n",
        "    bonus = employee_Salary * 0.05\n",
        "    print(\"Congratulations! You are eligible for a bonus of:\", bonus)\n",
        "else:\n",
        "    print(\"Sorry, you are not eligible for a bonus.\")\n"
      ]
    },
    {
      "cell_type": "markdown",
      "metadata": {
        "id": "6qsTHffNkZzI"
      },
      "source": [
        "2) Write a program to check whether a person is eligible for voting or not. (accept age from user) if age is greater than 17 eligible otherwise not eligible"
      ]
    },
    {
      "cell_type": "code",
      "execution_count": 17,
      "metadata": {
        "id": "D6uR5ddTkZzI",
        "colab": {
          "base_uri": "https://localhost:8080/"
        },
        "outputId": "b1135897-1560-4142-c2a8-138bf16b0a70"
      },
      "outputs": [
        {
          "metadata": {
            "tags": null
          },
          "name": "stdout",
          "output_type": "stream",
          "text": [
            "Your are not eligible for vote\n"
          ]
        }
      ],
      "source": [
        "age = 14\n",
        "if age >= 17:\n",
        "    print(\"Your are eligible for vote\")\n",
        "else:\n",
        "    print(\"Your are not eligible for vote\")"
      ]
    },
    {
      "cell_type": "markdown",
      "metadata": {
        "id": "Jdt75mc-kZzJ"
      },
      "source": [
        "\n",
        "3) Write a program to check whether a number entered by user is even or odd."
      ]
    },
    {
      "cell_type": "code",
      "execution_count": 18,
      "metadata": {
        "id": "9eSuNd7FkZzJ",
        "colab": {
          "base_uri": "https://localhost:8080/"
        },
        "outputId": "23f8fd0b-2992-4dd9-f6f7-e0835111235d"
      },
      "outputs": [
        {
          "output_type": "stream",
          "name": "stdout",
          "text": [
            "Add a number7\n",
            "Your number is odd\n"
          ]
        }
      ],
      "source": [
        "add_number = int(input(\"Add a number\"))\n",
        "\n",
        "if add_number  % 2 == 0:\n",
        "    print (\"your number is even \")\n",
        "else:\n",
        "    print (\"Your number is odd\")"
      ]
    },
    {
      "cell_type": "markdown",
      "metadata": {
        "id": "M0FRYEm0kZzJ"
      },
      "source": [
        "4) Write a program to check whether a number is divisible by 7 or not.\n",
        "Show Answer"
      ]
    },
    {
      "cell_type": "code",
      "execution_count": 19,
      "metadata": {
        "id": "UrjA3dDCkZzK",
        "colab": {
          "base_uri": "https://localhost:8080/"
        },
        "outputId": "ef145d1b-96c1-4fc1-bee6-1dec6781fcf7"
      },
      "outputs": [
        {
          "output_type": "stream",
          "name": "stdout",
          "text": [
            "Add a number8\n",
            "Your number can't be divisible by 7\n"
          ]
        }
      ],
      "source": [
        "add_number = int(input(\"Add a number\"))\n",
        "\n",
        "if add_number  % 7 == 0:\n",
        "    print (\"your number can be divisible by 7 \")\n",
        "else:\n",
        "    print (\"Your number can't be divisible by 7\")"
      ]
    },
    {
      "cell_type": "markdown",
      "metadata": {
        "id": "xi7ufvDzkZzM"
      },
      "source": [
        "5) Write a program to display\n",
        "\"Hello\" if a number entered by user is a multiple of five , otherwise print \"Bye\"."
      ]
    },
    {
      "cell_type": "code",
      "execution_count": 20,
      "metadata": {
        "id": "YHOvoSJnkZzM",
        "colab": {
          "base_uri": "https://localhost:8080/"
        },
        "outputId": "927a62ca-6058-424d-826f-fb614bf16f8b"
      },
      "outputs": [
        {
          "output_type": "stream",
          "name": "stdout",
          "text": [
            "Add a number25\n",
            "hello! \n"
          ]
        }
      ],
      "source": [
        "add_number = int(input(\"Add a number\"))\n",
        "\n",
        "if add_number  % 5 == 0:\n",
        "    print (\"hello! \")\n",
        "else:\n",
        "    print (\"Bye Bye! \")"
      ]
    },
    {
      "cell_type": "markdown",
      "metadata": {
        "id": "4o1_BOc3kZzN"
      },
      "source": [
        "6) Write a program to calculate the electricity bill (accept number of unit from user) according to the following criteria :\n",
        "     Unit                                                     Price  \n",
        "uptp 100 units                                             no charge\n",
        "Next 200 units                                              Rs 5 per unit\n",
        "After 200 units                                             Rs 10 per unit\n",
        "(For example if input unit is 350 than total bill amount is Rs.3500\n",
        "(For example if input unit is 97 than total bill amount is Rs.0\n",
        "(For example if input unit is 150 than total bill amount is Rs.750"
      ]
    },
    {
      "cell_type": "code",
      "execution_count": 21,
      "metadata": {
        "id": "H9afOgXxkZzN",
        "colab": {
          "base_uri": "https://localhost:8080/"
        },
        "outputId": "72fb6bdb-3cb9-43aa-d240-4c9fd467fa08"
      },
      "outputs": [
        {
          "output_type": "stream",
          "name": "stdout",
          "text": [
            "Add your Units 200\n",
            "Your bill whould be  1000\n"
          ]
        }
      ],
      "source": [
        "units = int(input(\"Add your Units \"))\n",
        "\n",
        "if units <=100:\n",
        "    print(\"there will be no charge for such a unit\")\n",
        "elif units <=200:\n",
        "    bill =  units * 5\n",
        "    print (\"Your bill whould be \", bill)\n",
        "elif units >200:\n",
        "    bill = units * 10\n",
        "    print (\"Your bill whoulc be \", bill)\n",
        "else:\n",
        "    print(\"the amount is incorrect\")"
      ]
    },
    {
      "cell_type": "markdown",
      "metadata": {
        "id": "ySlVdwNekZzO"
      },
      "source": [
        "7) Write a program to display the last digit of a number.\n"
      ]
    },
    {
      "cell_type": "code",
      "execution_count": 22,
      "metadata": {
        "scrolled": true,
        "id": "4wtCWb1-kZzO",
        "colab": {
          "base_uri": "https://localhost:8080/"
        },
        "outputId": "3e228982-2e34-4e99-fd5a-dc628da1e432"
      },
      "outputs": [
        {
          "output_type": "stream",
          "name": "stdout",
          "text": [
            "Add a number567\n",
            "your last digit 7\n"
          ]
        }
      ],
      "source": [
        "add_number = int(input(\"Add a number\"))\n",
        "lastDigit =add_number  % 10\n",
        "print(\"your last digit\" , lastDigit)"
      ]
    },
    {
      "cell_type": "markdown",
      "metadata": {
        "id": "40czmrlWkZzP"
      },
      "source": [
        "9) Take values of length and breadth of a rectangle from user and print if it is square or rectangle."
      ]
    },
    {
      "cell_type": "code",
      "execution_count": 24,
      "metadata": {
        "id": "evLR72-lkZzP",
        "colab": {
          "base_uri": "https://localhost:8080/"
        },
        "outputId": "d75c8751-0cc1-449d-f4e4-b36616095ce7"
      },
      "outputs": [
        {
          "output_type": "stream",
          "name": "stdout",
          "text": [
            "Enter length6\n",
            "Enter breadth6\n",
            "It is a Square\n"
          ]
        }
      ],
      "source": [
        "length = int(input(\"Enter length\"))\n",
        "breadth = int(input(\"Enter breadth\"))\n",
        "\n",
        "if length == breadth:\n",
        "    print(\"It is a Square\")\n",
        "else:\n",
        "    print(\"It is a Rectangle\")\n"
      ]
    },
    {
      "cell_type": "markdown",
      "metadata": {
        "id": "O7I109QBkZzP"
      },
      "source": [
        "10) Take two int values from user and print greatest among them."
      ]
    },
    {
      "cell_type": "code",
      "execution_count": 25,
      "metadata": {
        "id": "gU-VputlkZzP",
        "colab": {
          "base_uri": "https://localhost:8080/"
        },
        "outputId": "8a1a31b7-353e-4eca-d8b5-fd54396ec8c4"
      },
      "outputs": [
        {
          "output_type": "stream",
          "name": "stdout",
          "text": [
            "Enter first number5\n",
            "Enter second number8\n",
            "8 is greater.\n"
          ]
        }
      ],
      "source": [
        "\n",
        "x = int(input(\"Enter first number\"))\n",
        "y = int(input(\"Enter second number\"))\n",
        "\n",
        "if x > y:\n",
        "    print(x, \"is greater.\")\n",
        "elif y > x:\n",
        "    print(y, \"is greater.\")\n",
        "else:\n",
        "    print(\"Both numbers are equal.\")\n"
      ]
    },
    {
      "cell_type": "markdown",
      "metadata": {
        "id": "9RYeS8LAkZzP"
      },
      "source": [
        "11) A shop will give discount of 10% if the cost of purchased quantity is more than 1000.\n",
        "Ask user for quantity\n",
        "Suppose, one unit will cost 100.\n",
        "Judge and print total cost for user."
      ]
    },
    {
      "cell_type": "code",
      "execution_count": 28,
      "metadata": {
        "id": "uohWeAWfkZzP",
        "colab": {
          "base_uri": "https://localhost:8080/"
        },
        "outputId": "1ee12751-76f4-4599-f176-d5afa4edc6e8"
      },
      "outputs": [
        {
          "output_type": "stream",
          "name": "stdout",
          "text": [
            "Enter quantity11\n",
            "Total cost after discount : 990.0\n"
          ]
        }
      ],
      "source": [
        " quantity = int(input(\"Enter quantity\"))\n",
        "\n",
        "price = 100\n",
        "totalcost = quantity * price\n",
        "\n",
        "if totalcost > 1000:\n",
        "    discount = totalcost * 0.1\n",
        "    totalcost -= discount\n",
        "\n",
        "print(\"Total cost after discount :\", totalcost)\n"
      ]
    },
    {
      "cell_type": "markdown",
      "metadata": {
        "id": "ji-cecY9kZzQ"
      },
      "source": [
        "12) A school has following rules for grading system:\n",
        "\n",
        "a. Below 25 - F\n",
        "\n",
        "b. 25 to 45 - E\n",
        "\n",
        "c. 45 to 50 - D\n",
        "\n",
        "d. 50 to 60 - C\n",
        "\n",
        "e. 60 to 80 - B\n",
        "\n",
        "f. Above 80 - A\n",
        "\n",
        "Ask user to enter marks and print the corresponding grade."
      ]
    },
    {
      "cell_type": "code",
      "execution_count": 29,
      "metadata": {
        "id": "K5hmlV1UkZzQ",
        "colab": {
          "base_uri": "https://localhost:8080/"
        },
        "outputId": "db101535-9563-444a-e891-12a521cf56b7"
      },
      "outputs": [
        {
          "output_type": "stream",
          "name": "stdout",
          "text": [
            "Enter marks66\n",
            "Grade: B\n"
          ]
        }
      ],
      "source": [
        "\n",
        "marks = int(input(\"Enter marks\"))\n",
        "\n",
        "if marks < 25:\n",
        "    print(\"Grade: F\")\n",
        "elif marks <= 45:\n",
        "    print(\"Grade: E\")\n",
        "elif marks <= 50:\n",
        "    print(\"Grade: D\")\n",
        "elif marks <= 60:\n",
        "    print(\"Grade: C\")\n",
        "elif marks <= 80:\n",
        "    print(\"Grade: B\")\n",
        "else:\n",
        "    print(\"Grade: A\")\n",
        "# i use down to upp word approch bcz it was easy"
      ]
    },
    {
      "cell_type": "markdown",
      "metadata": {
        "id": "_x9eKEB6kZzQ"
      },
      "source": [
        "14)A student will not be allowed to sit in exam if his/her attendence is less than 75%.\n",
        "\n",
        "Take following input from user\n",
        "\n",
        "- Number of classes held\n",
        "\n",
        "- Number of classes attended.\n",
        "\n",
        "And print\n",
        "\n",
        "- percentage of class attended\n",
        "\n",
        "- Is student is allowed to sit in exam or not.\n"
      ]
    },
    {
      "cell_type": "code",
      "execution_count": 32,
      "metadata": {
        "id": "CdsuGO0BkZzR",
        "colab": {
          "base_uri": "https://localhost:8080/"
        },
        "outputId": "52e60864-66bb-4827-e11e-5496f139d318"
      },
      "outputs": [
        {
          "output_type": "stream",
          "name": "stdout",
          "text": [
            "Enter total number of classes held: 10\n",
            "Enter number of classes attended: 9\n",
            "Attendance Percentage 90.0 %\n",
            "Allowed to sit in exam.\n"
          ]
        }
      ],
      "source": [
        "\n",
        "NumberOfClass = int(input(\"Enter total number of classes held: \"))\n",
        "NumberOfClassAtend = int(input(\"Enter number of classes attended: \"))\n",
        "\n",
        "\n",
        "attendance = (NumberOfClassAtend / NumberOfClass) * 100\n",
        "print(\"Attendance Percentage\", attendance, \"%\")\n",
        "\n",
        "if attendance >= 75:\n",
        "    print(\"Allowed to sit in exam.\")\n",
        "else:\n",
        "    print(\"Not allowed to sit in exam.\")\n"
      ]
    },
    {
      "cell_type": "markdown",
      "metadata": {
        "id": "VzVRCnXLkZzR"
      },
      "source": [
        "15) Modify the above question to allow student to sit if he/she has medical cause. Ask user if he/she has medical cause or not ( 'Y' or 'N' ) and print accordingly."
      ]
    },
    {
      "cell_type": "code",
      "execution_count": 34,
      "metadata": {
        "id": "WOzwDUjNkZzR",
        "colab": {
          "base_uri": "https://localhost:8080/"
        },
        "outputId": "6cf8c5b7-cf09-4ad2-9bea-036fc26a4f99"
      },
      "outputs": [
        {
          "output_type": "stream",
          "name": "stdout",
          "text": [
            "Enter total number of classes held: 9\n",
            "Enter number of classes attended: 8\n",
            "Attendance Percentage 88.88888888888889 %\n",
            "Do you have a medical cause? (Y/N): Y\n",
            "Allowed to sit in exam due to medical cause.\n"
          ]
        }
      ],
      "source": [
        "NumberOfClass = int(input(\"Enter total number of classes held: \"))\n",
        "NumberOfClassAtend = int(input(\"Enter number of classes attended: \"))\n",
        "\n",
        "attendance = (NumberOfClassAtend / NumberOfClass ) * 100\n",
        "print(\"Attendance Percentage\", attendance, \"%\")\n",
        "\n",
        "if attendance <= 75:\n",
        "    print(\"Allowed to sit in exam.\")\n",
        "else:\n",
        "    MedicalCasuse = input(\"Do you have a medical cause? (Y/N): \")\n",
        "    if MedicalCasuse == 'Y':\n",
        "        print(\"Allowed to sit in exam due to medical cause.\")\n",
        "    else:\n",
        "        print(\"Not allowed to sit in exam.\")"
      ]
    },
    {
      "cell_type": "markdown",
      "metadata": {
        "id": "GWzVIHYmkZzR"
      },
      "source": [
        "16) Write a program to check if a year is leap year or not.\n",
        "\n",
        "If a year is divisible by 4 then it is leap year but if the year is century year like 2000, 1900, 2100 then it must be divisible by 400."
      ]
    },
    {
      "cell_type": "code",
      "execution_count": 38,
      "metadata": {
        "id": "vbZ8TgISkZzS",
        "colab": {
          "base_uri": "https://localhost:8080/"
        },
        "outputId": "a249b45d-facb-4817-b7ca-23dd9cabe70d"
      },
      "outputs": [
        {
          "output_type": "stream",
          "name": "stdout",
          "text": [
            "Enter the year8\n",
            "8 Your year is century year \n"
          ]
        }
      ],
      "source": [
        "year = int(input(\"Enter the year\"))\n",
        "\n",
        "if year %4:\n",
        "    print (year , \"Your year is leep year\")\n",
        "elif year %400:\n",
        "    print (year,\"Your year is century year \")\n",
        "else:\n",
        "    print (\" your is year:\", year)"
      ]
    },
    {
      "cell_type": "markdown",
      "metadata": {
        "id": "KaKBPKgAkZzS"
      },
      "source": [
        "17) Ask user to enter age, gender ( M or F ), marital status ( Y or N ) and then using following rules print their place of service.\n",
        "\n",
        "if employee is female, then she will work only in urban areas.\n",
        "\n",
        "if employee is a male and age is in between 20 to 40 then he may work in anywhere\n",
        "\n",
        "if employee is male and age is in between 40 t0 60 then he will work in urban areas only.\n",
        "\n",
        "And any other input of age should print \"ERROR\""
      ]
    },
    {
      "cell_type": "code",
      "execution_count": 37,
      "metadata": {
        "id": "A9WZmGfhkZzT",
        "colab": {
          "base_uri": "https://localhost:8080/"
        },
        "outputId": "81931b20-cb3a-49c8-ad37-1b5c34c2563e"
      },
      "outputs": [
        {
          "output_type": "stream",
          "name": "stdout",
          "text": [
            "Enter age: 21\n",
            "Enter gender (M/F): M\n",
            "He can work Anywhere.\n"
          ]
        }
      ],
      "source": [
        "age = int(input(\"Enter age: \"))\n",
        "gender = input(\"Enter gender (M/F): \").upper()\n",
        "\n",
        "\n",
        "if gender == 'F':\n",
        "    print(\"She will work only in Urban Areas.\")\n",
        "elif gender == 'M':\n",
        "    if 20 <= age <= 40:\n",
        "        print(\"He can work Anywhere.\")\n",
        "    elif 40 < age <= 60:\n",
        "        print(\"He will work only in Urban Areas.\")\n",
        "    else:\n",
        "        print(\"ERROR\")\n",
        "else:\n",
        "    print(\"Invalid Input\")\n"
      ]
    },
    {
      "cell_type": "markdown",
      "metadata": {
        "id": "NN5_Hz-tkZzT"
      },
      "source": [
        "13) Take input of age of 3 people by user and determine oldest and youngest among them."
      ]
    },
    {
      "cell_type": "code",
      "execution_count": 35,
      "metadata": {
        "id": "Z0kRYHZskZzU",
        "colab": {
          "base_uri": "https://localhost:8080/"
        },
        "outputId": "3568495e-e99b-49e7-e622-96d5f8a26daf"
      },
      "outputs": [
        {
          "output_type": "stream",
          "name": "stdout",
          "text": [
            "Enter your First brother age77\n",
            "Enter your Second brother age88\n",
            "Enter your Third brother age66\n",
            "The oldest person is 88 years old.\n",
            "The youngest person is 66 years old.\n"
          ]
        }
      ],
      "source": [
        "age_1 = int(input(\"Enter your First brother age\"))\n",
        "age_2 = int(input(\"Enter your Second brother age\"))\n",
        "age_3 = int(input(\"Enter your Third brother age\"))\n",
        "\n",
        "if age_1 > age_2  and age_1 > age_3:\n",
        "    oldest = age_1\n",
        "elif age_2 > age_1 and age_2  > age_3:\n",
        "    oldest = age_2\n",
        "else:\n",
        "    oldest = age_3\n",
        "\n",
        "if age_1 < age_2 and age_1 < age_3:\n",
        "    youngest = a1\n",
        "elif age_2  < age_1 and age_2  < age_3:\n",
        "    youngest = age_2\n",
        "else:\n",
        "    youngest = age_3\n",
        "\n",
        "print(\"The oldest person is\", oldest, \"years old.\")\n",
        "print(\"The youngest person is\", youngest, \"years old.\")\n",
        "\n",
        "# it can also be done by min and max method"
      ]
    },
    {
      "cell_type": "code",
      "execution_count": null,
      "metadata": {
        "id": "HGk10o5YkZzU"
      },
      "outputs": [],
      "source": []
    }
  ],
  "metadata": {
    "kernelspec": {
      "display_name": "Python 3 (ipykernel)",
      "language": "python",
      "name": "python3"
    },
    "language_info": {
      "codemirror_mode": {
        "name": "ipython",
        "version": 3
      },
      "file_extension": ".py",
      "mimetype": "text/x-python",
      "name": "python",
      "nbconvert_exporter": "python",
      "pygments_lexer": "ipython3",
      "version": "3.12.7"
    },
    "colab": {
      "provenance": []
    }
  },
  "nbformat": 4,
  "nbformat_minor": 0
}